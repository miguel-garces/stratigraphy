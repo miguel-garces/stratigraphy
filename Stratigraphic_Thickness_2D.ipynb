{
  "cells": [
    {
      "cell_type": "markdown",
      "metadata": {
        "id": "view-in-github",
        "colab_type": "text"
      },
      "source": [
        "<a href=\"https://colab.research.google.com/github/miguel-garces/stratigraphy/blob/main/Stratigraphic_Thickness_2D.ipynb\" target=\"_parent\"><img src=\"https://colab.research.google.com/assets/colab-badge.svg\" alt=\"Open In Colab\"/></a>"
      ]
    },
    {
      "cell_type": "markdown",
      "id": "43866305",
      "metadata": {
        "id": "43866305"
      },
      "source": [
        "### Stratigraphic thickness calculation\n",
        "Calculate stratigraphic thickness from a cross section parallel to bedding dip.\n",
        "\n",
        "Distance (d) is positive when measured from base to top in the sense of dip, negative when measured from base to top opposite to dip sense.\n",
        "\n",
        "The difference in altitude (dh = h2 -h1) may be positive (p2 is at an altitude higher than the base p1) or negative\n"
      ]
    },
    {
      "cell_type": "markdown",
      "id": "fc936e39",
      "metadata": {
        "id": "fc936e39"
      },
      "source": [
        "![thickness-2D.png](attachment:thickness-2D.png)"
      ]
    },
    {
      "cell_type": "code",
      "execution_count": 1,
      "id": "05d04e26",
      "metadata": {
        "id": "05d04e26"
      },
      "outputs": [],
      "source": [
        "import numpy as np"
      ]
    },
    {
      "cell_type": "markdown",
      "id": "d7fe0c7a",
      "metadata": {
        "id": "d7fe0c7a"
      },
      "source": [
        "**Bedding dip data**"
      ]
    },
    {
      "cell_type": "code",
      "execution_count": 2,
      "id": "3cda8717",
      "metadata": {
        "colab": {
          "base_uri": "https://localhost:8080/"
        },
        "id": "3cda8717",
        "outputId": "e56c3914-6b4a-464a-9310-fe190b6a0a1d"
      },
      "outputs": [
        {
          "output_type": "stream",
          "name": "stdout",
          "text": [
            "horizontal distance along dip direction (dx) in meters: 200\n",
            "altitude diference (dy): 23\n",
            "Bedding dip:  7.0  degrees\n"
          ]
        }
      ],
      "source": [
        "#bedding dip data\n",
        "dx = float(input('horizontal distance along dip direction (dx) in meters: '))    # horizontal distance in dip direction in meters\n",
        "dy =  float(input('altitude diference (dy): '))                                #vertical distance\n",
        "dip = np.degrees(np.arctan(dy/dx))\n",
        "print('Bedding dip:  {0}  degrees'.format(dip.round()))"
      ]
    },
    {
      "cell_type": "code",
      "execution_count": 3,
      "id": "0d68ada2",
      "metadata": {
        "colab": {
          "base_uri": "https://localhost:8080/"
        },
        "id": "0d68ada2",
        "outputId": "ece3629c-c8c8-41ae-88ad-b28fc7e985aa"
      },
      "outputs": [
        {
          "name": "stdout",
          "output_type": "stream",
          "text": [
            "bedding dip (degrees): 5\n"
          ]
        }
      ],
      "source": [
        "# alternativeley set bedding dip\n",
        "\n",
        "dip =  float(input('bedding dip (degrees): '))                                #bedding dip in degrees\n"
      ]
    },
    {
      "cell_type": "markdown",
      "id": "b152bf9a",
      "metadata": {
        "id": "b152bf9a"
      },
      "source": [
        "**Thickness calculation**"
      ]
    },
    {
      "cell_type": "code",
      "execution_count": 4,
      "id": "da64bad9",
      "metadata": {
        "colab": {
          "base_uri": "https://localhost:8080/"
        },
        "id": "da64bad9",
        "outputId": "e0b2b8f7-ef5a-456f-b25f-d7fc04f6cd88"
      },
      "outputs": [
        {
          "output_type": "stream",
          "name": "stdout",
          "text": [
            "horizontal distance from base to top (d) (+ve if walked in the dip sense): 600\n",
            "Altitude of the base (h1): 100\n",
            "Altitude of top (h2): 200\n",
            "Stratigraphic thickness:  152.0 meters\n"
          ]
        }
      ],
      "source": [
        "distance = float(input('horizontal distance from base to top (d) (+ve if walked in the dip sense): ')) #horizontal distance from base to top (positive if walked in the direction of dip,\n",
        "                                                    #negative if walked in the direction opposite to dip)\n",
        "base = float(input('Altitude of the base (h1): ')) \n",
        "top = float(input('Altitude of top (h2): '))\n",
        "dH = top - base # altitude distance from base to top (Htop-Hbase)\n",
        "\n",
        "Thickness = distance*np.sin(np.radians(dip)) +dH*np.cos(np.radians(dip))\n",
        "print('Stratigraphic thickness:  {0} meters'.format(Thickness.round()))"
      ]
    }
  ],
  "metadata": {
    "kernelspec": {
      "display_name": "Python 3",
      "language": "python",
      "name": "python3"
    },
    "language_info": {
      "codemirror_mode": {
        "name": "ipython",
        "version": 3
      },
      "file_extension": ".py",
      "mimetype": "text/x-python",
      "name": "python",
      "nbconvert_exporter": "python",
      "pygments_lexer": "ipython3",
      "version": "3.8.8"
    },
    "colab": {
      "provenance": [],
      "include_colab_link": true
    }
  },
  "nbformat": 4,
  "nbformat_minor": 5
}