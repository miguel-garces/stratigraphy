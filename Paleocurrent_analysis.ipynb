{
 "cells": [
  {
   "cell_type": "markdown",
   "metadata": {
    "id": "a-lb48pG-eGH"
   },
   "source": [
    "# Paleocurrent data analysis#"
   ]
  },
  {
   "attachments": {
    "newplot%281%29.png": {
     "image/png": "[encoded data removed]"
    }
   },
   "cell_type": "markdown",
   "metadata": {
    "id": "VuqHKkLOeTX5"
   },
   "source": [
    "**Calculates mean azimuth and standard deviation of a set of paleocurrent data and plots data in a rose diagram.**\n",
    "\n",
    "Input file must be in excel format.\n",
    "\n",
    "Each column contains one type of paleocurrent data, and first row contains a text heading (ex: \"Flutes\").\n",
    "\n",
    "The number of bins can be set manually. The default is set to 36 bins --> each bin ranges 10º.\n",
    "![newplot%281%29.png](attachment:newplot%281%29.png)\n"
   ]
  },
  {
   "cell_type": "markdown",
   "metadata": {
    "id": "aXVJx_Jqvaqd"
   },
   "source": [
    "**Importing modules and function definitions**"
   ]
  },
  {
   "cell_type": "code",
   "execution_count": null,
   "metadata": {
    "id": "9LI2xWj6-eGQ"
   },
   "outputs": [],
   "source": [
    "#importing modules\n",
    "import plotly.graph_objects as go\n",
    "import pandas as pd\n",
    "import numpy as np\n",
    "\n",
    "# defining statistical functions\n",
    "# polar mean function\n",
    "def polar_mean(x):\n",
    "  cos_a = 0\n",
    "  sin_a = 0\n",
    "  for a in x:                         #loop to sum the sinus and cosinus of all directional data\n",
    "    cos_a += np.cos(np.radians(a))\n",
    "    sin_a += np.sin(np.radians(a))\n",
    "  mean = np.degrees(np.arctan2(sin_a,cos_a))    # calculates the mean from arctang of the the sum of sinus and cosinus\n",
    "  return(mean)\n",
    "\n",
    "# Standard deviation function\n",
    "def standard_deviation(x,x_mean):\n",
    "    sum_squared_diferences = 0\n",
    "    for a in x:                       #loop to calculate the squared difference of the individual directions to the mean\n",
    "        squared_diferences = (2*np.degrees(np.arcsin(np.sqrt(\n",
    "            (np.cos(np.radians(a))-np.cos(np.radians(x_mean)))**2+\n",
    "            (np.sin(np.radians(a))-np.sin(np.radians(x_mean)))**2)\n",
    "            /2)))**2\n",
    "        sum_squared_diferences += squared_diferences    #summatory of squared differences\n",
    "    std_dev = np.sqrt(sum_squared_diferences/len(x))    # standard deviation= squared root of summatory divided by number of data\n",
    "    return(std_dev)\n",
    "\n",
    "class color:\n",
    "   PURPLE = '\\033[95m'\n",
    "   CYAN = '\\033[96m'\n",
    "   DARKCYAN = '\\033[36m'\n",
    "   BLUE = '\\033[94m'\n",
    "   GREEN = '\\033[92m'\n",
    "   YELLOW = '\\033[93m'\n",
    "   RED = '\\033[91m'\n",
    "   BOLD = '\\033[1m'\n",
    "   UNDERLINE = '\\033[4m'\n",
    "   END = '\\033[0m'\n"
   ]
  },
  {
   "cell_type": "markdown",
   "metadata": {},
   "source": [
    "**Reading input file**"
   ]
  },
  {
   "cell_type": "code",
   "execution_count": null,
   "metadata": {},
   "outputs": [],
   "source": [
    "from tkinter import *\n",
    "from tkinter import filedialog\n",
    "# Create Tk root\n",
    "root = Tk()\n",
    "# Hide the main window\n",
    "root.withdraw()\n",
    "root.call('wm', 'attributes', '.', '-topmost', True)\n",
    "\n",
    "filename = filedialog.askopenfilename(filetypes = (('excel XLS', '*.xls'),('excel XLSX', '*.xlsx'))) \n",
    "print(filename)\n",
    "data = pd.read_excel(filename)\n",
    "data.info()\n",
    "\n",
    "# Selecting the column in the dataframe that contains the dataset\n",
    "len(data.columns)\n",
    "option ={}\n",
    "for n in range(len(data.columns)):\n",
    "    key_value_pair ={n+1:data.columns[n]}\n",
    "    option.update(key_value_pair)\n",
    "\n",
    "column_number = int(input(color.BOLD + color.RED + 'choose dataset ' + str(option)+':'))\n",
    "print(color.BOLD + str.upper(option[column_number]+ '  selected') + color.END)\n",
    "selected_data = data[option[column_number]].dropna()"
   ]
  },
  {
   "cell_type": "markdown",
   "metadata": {
    "id": "rkUdFJCeCuUB"
   },
   "source": [
    "**Calculating statistics**"
   ]
  },
  {
   "cell_type": "code",
   "execution_count": null,
   "metadata": {
    "colab": {
     "base_uri": "https://localhost:8080/"
    },
    "id": "n7lLMFA-slgL",
    "outputId": "fd8ec37b-69fc-48ac-aef9-d9afea29c118"
   },
   "outputs": [],
   "source": [
    "#Calculate mean direction and standard error\n",
    "\n",
    "paleocurrent_mean = polar_mean(selected_data)\n",
    "paleocurrent_std_dev = standard_deviation(selected_data,paleocurrent_mean)\n",
    "\n",
    "statistics = [[len(selected_data), int(paleocurrent_mean), paleocurrent_std_dev ]]\n",
    "\n",
    "df_stats = pd.DataFrame(statistics, index = [option[column_number]], columns =['N', 'mean', 'standard dev'])\n",
    "df_stats.round(1)"
   ]
  },
  {
   "cell_type": "markdown",
   "metadata": {
    "id": "uF0beL6JVqJs"
   },
   "source": [
    "**Plotting Rose diagram**"
   ]
  },
  {
   "cell_type": "code",
   "execution_count": null,
   "metadata": {
    "colab": {
     "base_uri": "https://localhost:8080/",
     "height": 542
    },
    "id": "VRjsNpBd-eHd",
    "outputId": "bc9e65b6-982a-4f0c-f60b-59136bd20524"
   },
   "outputs": [],
   "source": [
    "#set manually the number of bins.\n",
    "number_of_bins = 36   #set number of bins manually\n",
    "\n",
    "#The frequency (radius) and azimuth of bins for rose diagram is stored in bin_sahpes:\n",
    "bin_shapes = np.histogram(selected_data, bins = number_of_bins, range = (0,360)) \n",
    "frequency = bin_shapes[0] #frequency of each bin\n",
    "azimuth = []  #array of azimuths of bins\n",
    "for n in range(len(bin_shapes[1])-1):\n",
    "  azimuth.append((bin_shapes[1][n]+bin_shapes[1][n+1])/2) #find the median azimuth of each bin\n",
    "angular_width = (azimuth[-1]-azimuth[0])/(len(azimuth)-1) #angular width of bins\n",
    "\n",
    "# Plotting rose diagram\n",
    "fig = go.Figure(go.Barpolar(\n",
    "    r=frequency,\n",
    "    theta=azimuth,\n",
    "    width=angular_width,\n",
    "    marker_color= \"blue\",\n",
    "    marker_line_color=\"black\",\n",
    "    marker_line_width=1,\n",
    "    opacity=0.8\n",
    "))\n",
    "\n",
    "fig.update_layout(\n",
    "    template=None,\n",
    "    polar = dict(\n",
    "        radialaxis = dict(range=[0, frequency.max()], showticklabels= True, ticks=''),\n",
    "        angularaxis = dict(showticklabels= True, ticks='',\n",
    "        tickfont_size = 10,\n",
    "        rotation = 90,\n",
    "        direction = \"clockwise\")\n",
    "))\n",
    "fig.show()"
   ]
  },
  {
   "cell_type": "code",
   "execution_count": null,
   "metadata": {},
   "outputs": [],
   "source": []
  }
 ],
 "metadata": {
  "colab": {
   "collapsed_sections": [],
   "include_colab_link": true,
   "name": "Paleocurrent analysis_v3.ipynb",
   "provenance": []
  },
  "kernelspec": {
   "display_name": "Python 3",
   "language": "python",
   "name": "python3"
  },
  "language_info": {
   "codemirror_mode": {
    "name": "ipython",
    "version": 3
   },
   "file_extension": ".py",
   "mimetype": "text/x-python",
   "name": "python",
   "nbconvert_exporter": "python",
   "pygments_lexer": "ipython3",
   "version": "3.7.4"
  }
 },
 "nbformat": 4,
 "nbformat_minor": 1
}
